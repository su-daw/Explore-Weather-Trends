{
 "cells": [
  {
   "cell_type": "code",
   "execution_count": 98,
   "id": "ed7b6a44",
   "metadata": {},
   "outputs": [],
   "source": [
    "#for data manipulation\n",
    "import pandas as pd \n",
    "import numpy as np\n",
    "#for data visualization\n",
    "import matplotlib.pyplot as plt\n",
    "import seaborn as sns"
   ]
  },
  {
   "cell_type": "code",
   "execution_count": 51,
   "id": "c80af94e",
   "metadata": {},
   "outputs": [],
   "source": [
    "#read data\n",
    "df = pd.read_csv('/Users/sultanahaldawsari/Desktop/results1.csv')"
   ]
  },
  {
   "cell_type": "markdown",
   "id": "8ea4c9a7",
   "metadata": {},
   "source": [
    "# Data Exploring and Cleaning"
   ]
  },
  {
   "cell_type": "code",
   "execution_count": 52,
   "id": "d0d51e5d",
   "metadata": {
    "scrolled": false
   },
   "outputs": [
    {
     "data": {
      "text/html": [
       "<div>\n",
       "<style scoped>\n",
       "    .dataframe tbody tr th:only-of-type {\n",
       "        vertical-align: middle;\n",
       "    }\n",
       "\n",
       "    .dataframe tbody tr th {\n",
       "        vertical-align: top;\n",
       "    }\n",
       "\n",
       "    .dataframe thead th {\n",
       "        text-align: right;\n",
       "    }\n",
       "</style>\n",
       "<table border=\"1\" class=\"dataframe\">\n",
       "  <thead>\n",
       "    <tr style=\"text-align: right;\">\n",
       "      <th></th>\n",
       "      <th>year</th>\n",
       "      <th>global_temp</th>\n",
       "      <th>local_temp</th>\n",
       "    </tr>\n",
       "  </thead>\n",
       "  <tbody>\n",
       "    <tr>\n",
       "      <th>0</th>\n",
       "      <td>1843</td>\n",
       "      <td>8.17</td>\n",
       "      <td>24.74</td>\n",
       "    </tr>\n",
       "    <tr>\n",
       "      <th>1</th>\n",
       "      <td>1844</td>\n",
       "      <td>7.65</td>\n",
       "      <td>15.45</td>\n",
       "    </tr>\n",
       "    <tr>\n",
       "      <th>2</th>\n",
       "      <td>1845</td>\n",
       "      <td>7.85</td>\n",
       "      <td>20.82</td>\n",
       "    </tr>\n",
       "    <tr>\n",
       "      <th>3</th>\n",
       "      <td>1846</td>\n",
       "      <td>8.55</td>\n",
       "      <td>NaN</td>\n",
       "    </tr>\n",
       "    <tr>\n",
       "      <th>4</th>\n",
       "      <td>1847</td>\n",
       "      <td>8.09</td>\n",
       "      <td>NaN</td>\n",
       "    </tr>\n",
       "  </tbody>\n",
       "</table>\n",
       "</div>"
      ],
      "text/plain": [
       "   year  global_temp  local_temp\n",
       "0  1843         8.17       24.74\n",
       "1  1844         7.65       15.45\n",
       "2  1845         7.85       20.82\n",
       "3  1846         8.55         NaN\n",
       "4  1847         8.09         NaN"
      ]
     },
     "execution_count": 52,
     "metadata": {},
     "output_type": "execute_result"
    }
   ],
   "source": [
    "df.head()"
   ]
  },
  {
   "cell_type": "code",
   "execution_count": 53,
   "id": "499d29c3",
   "metadata": {},
   "outputs": [],
   "source": [
    "df.dropna(inplace=True)"
   ]
  },
  {
   "cell_type": "code",
   "execution_count": 54,
   "id": "3f60f095",
   "metadata": {
    "scrolled": false
   },
   "outputs": [
    {
     "data": {
      "text/html": [
       "<div>\n",
       "<style scoped>\n",
       "    .dataframe tbody tr th:only-of-type {\n",
       "        vertical-align: middle;\n",
       "    }\n",
       "\n",
       "    .dataframe tbody tr th {\n",
       "        vertical-align: top;\n",
       "    }\n",
       "\n",
       "    .dataframe thead th {\n",
       "        text-align: right;\n",
       "    }\n",
       "</style>\n",
       "<table border=\"1\" class=\"dataframe\">\n",
       "  <thead>\n",
       "    <tr style=\"text-align: right;\">\n",
       "      <th></th>\n",
       "      <th>year</th>\n",
       "      <th>global_temp</th>\n",
       "      <th>local_temp</th>\n",
       "    </tr>\n",
       "  </thead>\n",
       "  <tbody>\n",
       "    <tr>\n",
       "      <th>count</th>\n",
       "      <td>169.000000</td>\n",
       "      <td>169.000000</td>\n",
       "      <td>169.000000</td>\n",
       "    </tr>\n",
       "    <tr>\n",
       "      <th>mean</th>\n",
       "      <td>1928.964497</td>\n",
       "      <td>8.539349</td>\n",
       "      <td>25.214142</td>\n",
       "    </tr>\n",
       "    <tr>\n",
       "      <th>std</th>\n",
       "      <td>48.991483</td>\n",
       "      <td>0.465991</td>\n",
       "      <td>1.046984</td>\n",
       "    </tr>\n",
       "    <tr>\n",
       "      <th>min</th>\n",
       "      <td>1843.000000</td>\n",
       "      <td>7.560000</td>\n",
       "      <td>15.450000</td>\n",
       "    </tr>\n",
       "    <tr>\n",
       "      <th>25%</th>\n",
       "      <td>1887.000000</td>\n",
       "      <td>8.180000</td>\n",
       "      <td>24.870000</td>\n",
       "    </tr>\n",
       "    <tr>\n",
       "      <th>50%</th>\n",
       "      <td>1929.000000</td>\n",
       "      <td>8.520000</td>\n",
       "      <td>25.150000</td>\n",
       "    </tr>\n",
       "    <tr>\n",
       "      <th>75%</th>\n",
       "      <td>1971.000000</td>\n",
       "      <td>8.760000</td>\n",
       "      <td>25.590000</td>\n",
       "    </tr>\n",
       "    <tr>\n",
       "      <th>max</th>\n",
       "      <td>2013.000000</td>\n",
       "      <td>9.730000</td>\n",
       "      <td>27.780000</td>\n",
       "    </tr>\n",
       "  </tbody>\n",
       "</table>\n",
       "</div>"
      ],
      "text/plain": [
       "              year  global_temp  local_temp\n",
       "count   169.000000   169.000000  169.000000\n",
       "mean   1928.964497     8.539349   25.214142\n",
       "std      48.991483     0.465991    1.046984\n",
       "min    1843.000000     7.560000   15.450000\n",
       "25%    1887.000000     8.180000   24.870000\n",
       "50%    1929.000000     8.520000   25.150000\n",
       "75%    1971.000000     8.760000   25.590000\n",
       "max    2013.000000     9.730000   27.780000"
      ]
     },
     "execution_count": 54,
     "metadata": {},
     "output_type": "execute_result"
    }
   ],
   "source": [
    "df.describe()"
   ]
  },
  {
   "cell_type": "markdown",
   "id": "9a66137e",
   "metadata": {},
   "source": [
    "# Calculating the Moving Average "
   ]
  },
  {
   "cell_type": "code",
   "execution_count": 57,
   "id": "2c1d1f68",
   "metadata": {},
   "outputs": [],
   "source": [
    "df['global_temp'] =df['global_temp'].rolling(14).mean()\n",
    "df['local_temp'] =df['local_temp'].rolling(14).mean() #used by 14 to smoothens the data for better understanding"
   ]
  },
  {
   "cell_type": "code",
   "execution_count": 70,
   "id": "5ae1a57f",
   "metadata": {},
   "outputs": [],
   "source": [
    "dfm = df.melt('year', var_name='cols', value_name='vals') # create a new df to simplify the visualization part and to eazy compare"
   ]
  },
  {
   "cell_type": "code",
   "execution_count": 71,
   "id": "1f0dc582",
   "metadata": {
    "scrolled": true
   },
   "outputs": [
    {
     "data": {
      "text/html": [
       "<div>\n",
       "<style scoped>\n",
       "    .dataframe tbody tr th:only-of-type {\n",
       "        vertical-align: middle;\n",
       "    }\n",
       "\n",
       "    .dataframe tbody tr th {\n",
       "        vertical-align: top;\n",
       "    }\n",
       "\n",
       "    .dataframe thead th {\n",
       "        text-align: right;\n",
       "    }\n",
       "</style>\n",
       "<table border=\"1\" class=\"dataframe\">\n",
       "  <thead>\n",
       "    <tr style=\"text-align: right;\">\n",
       "      <th></th>\n",
       "      <th>year</th>\n",
       "      <th>cols</th>\n",
       "      <th>vals</th>\n",
       "    </tr>\n",
       "  </thead>\n",
       "  <tbody>\n",
       "    <tr>\n",
       "      <th>0</th>\n",
       "      <td>1843</td>\n",
       "      <td>global_temp</td>\n",
       "      <td>NaN</td>\n",
       "    </tr>\n",
       "    <tr>\n",
       "      <th>1</th>\n",
       "      <td>1844</td>\n",
       "      <td>global_temp</td>\n",
       "      <td>NaN</td>\n",
       "    </tr>\n",
       "    <tr>\n",
       "      <th>2</th>\n",
       "      <td>1845</td>\n",
       "      <td>global_temp</td>\n",
       "      <td>NaN</td>\n",
       "    </tr>\n",
       "    <tr>\n",
       "      <th>3</th>\n",
       "      <td>1848</td>\n",
       "      <td>global_temp</td>\n",
       "      <td>NaN</td>\n",
       "    </tr>\n",
       "    <tr>\n",
       "      <th>4</th>\n",
       "      <td>1849</td>\n",
       "      <td>global_temp</td>\n",
       "      <td>NaN</td>\n",
       "    </tr>\n",
       "    <tr>\n",
       "      <th>...</th>\n",
       "      <td>...</td>\n",
       "      <td>...</td>\n",
       "      <td>...</td>\n",
       "    </tr>\n",
       "    <tr>\n",
       "      <th>333</th>\n",
       "      <td>2009</td>\n",
       "      <td>local_temp</td>\n",
       "      <td>26.415714</td>\n",
       "    </tr>\n",
       "    <tr>\n",
       "      <th>334</th>\n",
       "      <td>2010</td>\n",
       "      <td>local_temp</td>\n",
       "      <td>26.493571</td>\n",
       "    </tr>\n",
       "    <tr>\n",
       "      <th>335</th>\n",
       "      <td>2011</td>\n",
       "      <td>local_temp</td>\n",
       "      <td>26.558571</td>\n",
       "    </tr>\n",
       "    <tr>\n",
       "      <th>336</th>\n",
       "      <td>2012</td>\n",
       "      <td>local_temp</td>\n",
       "      <td>26.565714</td>\n",
       "    </tr>\n",
       "    <tr>\n",
       "      <th>337</th>\n",
       "      <td>2013</td>\n",
       "      <td>local_temp</td>\n",
       "      <td>26.627143</td>\n",
       "    </tr>\n",
       "  </tbody>\n",
       "</table>\n",
       "<p>338 rows × 3 columns</p>\n",
       "</div>"
      ],
      "text/plain": [
       "     year         cols       vals\n",
       "0    1843  global_temp        NaN\n",
       "1    1844  global_temp        NaN\n",
       "2    1845  global_temp        NaN\n",
       "3    1848  global_temp        NaN\n",
       "4    1849  global_temp        NaN\n",
       "..    ...          ...        ...\n",
       "333  2009   local_temp  26.415714\n",
       "334  2010   local_temp  26.493571\n",
       "335  2011   local_temp  26.558571\n",
       "336  2012   local_temp  26.565714\n",
       "337  2013   local_temp  26.627143\n",
       "\n",
       "[338 rows x 3 columns]"
      ]
     },
     "execution_count": 71,
     "metadata": {},
     "output_type": "execute_result"
    }
   ],
   "source": [
    "dfm"
   ]
  },
  {
   "cell_type": "markdown",
   "id": "0c584526",
   "metadata": {},
   "source": [
    "# Visualization"
   ]
  },
  {
   "cell_type": "code",
   "execution_count": 97,
   "id": "aa0daad8",
   "metadata": {
    "scrolled": false
   },
   "outputs": [
    {
     "data": {
      "image/png": "[encoded data removed]",
      "text/plain": [
       "<Figure size 432x288 with 1 Axes>"
      ]
     },
     "metadata": {},
     "output_type": "display_data"
    }
   ],
   "source": [
    "p = sns.lineplot(data=dfm, x=\"year\", y=\"vals\", hue='cols', palette=['b', 'g'])\n",
    "p.legend(title='', loc='center right', labels=['Global', 'Riyadh'])\n",
    "p.figure.suptitle(\"Compare Riyadh & Global's Temperature\", fontsize = 13)\n",
    "p.set(xlabel=\"Years\", ylabel = \"Temperature (°C)\");"
   ]
  },
  {
   "cell_type": "code",
   "execution_count": 99,
   "id": "61f2989a",
   "metadata": {},
   "outputs": [],
   "source": [
    "p.figure.savefig(\"output.png\")"
   ]
  }
 ],
 "metadata": {
  "kernelspec": {
   "display_name": "Python 3 (ipykernel)",
   "language": "python",
   "name": "python3"
  },
  "language_info": {
   "codemirror_mode": {
    "name": "ipython",
    "version": 3
   },
   "file_extension": ".py",
   "mimetype": "text/x-python",
   "name": "python",
   "nbconvert_exporter": "python",
   "pygments_lexer": "ipython3",
   "version": "3.8.5"
  }
 },
 "nbformat": 4,
 "nbformat_minor": 5
}
